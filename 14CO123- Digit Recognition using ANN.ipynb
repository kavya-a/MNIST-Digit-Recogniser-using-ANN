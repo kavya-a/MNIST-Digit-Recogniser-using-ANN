{
 "cells": [
  {
   "cell_type": "code",
   "execution_count": 88,
   "metadata": {},
   "outputs": [],
   "source": [
    "%matplotlib inline\n",
    "import numpy as np\n",
    "from keras.utils import np_utils\n",
    "from keras.models import Sequential\n",
    "from keras.datasets import mnist\n",
    "from keras.layers import Dense"
   ]
  },
  {
   "cell_type": "code",
   "execution_count": 89,
   "metadata": {},
   "outputs": [],
   "source": [
    "np.random.seed(456)"
   ]
  },
  {
   "cell_type": "code",
   "execution_count": 90,
   "metadata": {},
   "outputs": [],
   "source": [
    "(X_train, y_train), (X_test, y_test) = mnist.load_data()\n",
    "imgsize = X_train.shape[1] * X_train.shape[2]\n",
    "X_train  = X_train.reshape(X_train.shape[0], imgsize).astype('float32')/255\n",
    "X_test  = X_test.reshape(X_test.shape[0], imgsize).astype('float32')/255\n",
    "y_train = np_utils.to_categorical(y_train)\n",
    "y_test = np_utils.to_categorical(y_test)\n",
    "\n",
    "num_classes = y_train.shape[1]"
   ]
  },
  {
   "cell_type": "code",
   "execution_count": 91,
   "metadata": {},
   "outputs": [
    {
     "data": {
      "text/plain": [
       "(60000, 784)"
      ]
     },
     "execution_count": 91,
     "metadata": {},
     "output_type": "execute_result"
    }
   ],
   "source": [
    "X_train.shape"
   ]
  },
  {
   "cell_type": "code",
   "execution_count": 92,
   "metadata": {},
   "outputs": [
    {
     "data": {
      "text/plain": [
       "(10000, 784)"
      ]
     },
     "execution_count": 92,
     "metadata": {},
     "output_type": "execute_result"
    }
   ],
   "source": [
    "X_test.shape"
   ]
  },
  {
   "cell_type": "code",
   "execution_count": 93,
   "metadata": {},
   "outputs": [
    {
     "data": {
      "text/plain": [
       "(60000, 10)"
      ]
     },
     "execution_count": 93,
     "metadata": {},
     "output_type": "execute_result"
    }
   ],
   "source": [
    "y_train.shape"
   ]
  },
  {
   "cell_type": "markdown",
   "metadata": {},
   "source": [
    "### 2 hidden layers- Relu, Relu\n",
    "#### Number of nodes = image size\n",
    "### Output layer- Softmax\n",
    "#### Number of nodes = 10\n",
    "### Batch size 200, 10 Epochs, Optimiser- Stochastic Gradient Descent \n",
    "### Test Accuracy 0.9826, Train Accuracy 0.9973"
   ]
  },
  {
   "cell_type": "code",
   "execution_count": 94,
   "metadata": {},
   "outputs": [
    {
     "name": "stdout",
     "output_type": "stream",
     "text": [
      "Train on 60000 samples, validate on 10000 samples\n",
      "Epoch 1/10\n",
      " - 15s - loss: 0.2892 - acc: 0.9232 - val_loss: 0.1157 - val_acc: 0.9655\n",
      "Epoch 2/10\n",
      " - 14s - loss: 0.0941 - acc: 0.9724 - val_loss: 0.0872 - val_acc: 0.9735\n",
      "Epoch 3/10\n",
      " - 14s - loss: 0.0665 - acc: 0.9811 - val_loss: 0.0723 - val_acc: 0.9785\n",
      "Epoch 4/10\n",
      " - 14s - loss: 0.0506 - acc: 0.9859 - val_loss: 0.0673 - val_acc: 0.9795\n",
      "Epoch 5/10\n",
      " - 14s - loss: 0.0400 - acc: 0.9892 - val_loss: 0.0625 - val_acc: 0.9809\n",
      "Epoch 6/10\n",
      " - 14s - loss: 0.0327 - acc: 0.9916 - val_loss: 0.0622 - val_acc: 0.9801\n",
      "Epoch 7/10\n",
      " - 14s - loss: 0.0266 - acc: 0.9938 - val_loss: 0.0586 - val_acc: 0.9813\n",
      "Epoch 8/10\n",
      " - 17s - loss: 0.0222 - acc: 0.9953 - val_loss: 0.0584 - val_acc: 0.9810\n",
      "Epoch 9/10\n",
      " - 16s - loss: 0.0185 - acc: 0.9962 - val_loss: 0.0573 - val_acc: 0.9814\n",
      "Epoch 10/10\n",
      " - 15s - loss: 0.0157 - acc: 0.9973 - val_loss: 0.0558 - val_acc: 0.9826\n",
      "Baseline Error: 1.74%\n"
     ]
    }
   ],
   "source": [
    "model = Sequential()\n",
    "model.add(Dense(imgsize, input_dim  = imgsize, kernel_initializer = 'normal', activation ='relu'))\n",
    "model.add(Dense(imgsize, kernel_initializer = 'normal', activation = 'relu'))\n",
    "model.add(Dense(num_classes, kernel_initializer = 'normal', activation ='softmax'))\n",
    "\n",
    "opt = keras.optimizers.SGD(lr=0.01, momentum=0.0, decay=0.0, nesterov=False)\n",
    "\n",
    "model.compile(loss= 'categorical_crossentropy', optimizer=opt, metrics = ['accuracy'])\n",
    "\n",
    "model = build_model()\n",
    "model.fit(X_train, y_train, validation_data = (X_test, y_test), epochs = 10, batch_size = 200, verbose = 2)\n",
    "scores = model.evaluate(X_test, y_test, verbose = 0)\n",
    "print(\"Baseline Error: %.2f%%\" % (100-scores[1]*100))"
   ]
  },
  {
   "cell_type": "markdown",
   "metadata": {},
   "source": [
    "### 2 hidden layers- Relu, tanh\n",
    "#### Number of nodes = image size\n",
    "### Output layer- Softmax\n",
    "#### Number of nodes = 10\n",
    "### Batch size 200, 10 Epochs, Optimiser- Stochastic Gradient Descent \n",
    "### Test Accuracy 0.9819, Train Accuracy 0.9976"
   ]
  },
  {
   "cell_type": "code",
   "execution_count": 95,
   "metadata": {},
   "outputs": [
    {
     "name": "stdout",
     "output_type": "stream",
     "text": [
      "Train on 60000 samples, validate on 10000 samples\n",
      "Epoch 1/10\n",
      " - 20s - loss: 0.3081 - acc: 0.9203 - val_loss: 0.1189 - val_acc: 0.9639\n",
      "Epoch 2/10\n",
      " - 17s - loss: 0.0937 - acc: 0.9726 - val_loss: 0.0872 - val_acc: 0.9734\n",
      "Epoch 3/10\n",
      " - 16s - loss: 0.0651 - acc: 0.9814 - val_loss: 0.0781 - val_acc: 0.9754\n",
      "Epoch 4/10\n",
      " - 16s - loss: 0.0491 - acc: 0.9862 - val_loss: 0.0676 - val_acc: 0.9799\n",
      "Epoch 5/10\n",
      " - 18s - loss: 0.0385 - acc: 0.9897 - val_loss: 0.0636 - val_acc: 0.9799\n",
      "Epoch 6/10\n",
      " - 18s - loss: 0.0306 - acc: 0.9924 - val_loss: 0.0633 - val_acc: 0.9799\n",
      "Epoch 7/10\n",
      " - 17s - loss: 0.0251 - acc: 0.9943 - val_loss: 0.0606 - val_acc: 0.9812\n",
      "Epoch 8/10\n",
      " - 16s - loss: 0.0204 - acc: 0.9959 - val_loss: 0.0589 - val_acc: 0.9823\n",
      "Epoch 9/10\n",
      " - 15s - loss: 0.0171 - acc: 0.9968 - val_loss: 0.0575 - val_acc: 0.9821\n",
      "Epoch 10/10\n",
      " - 15s - loss: 0.0145 - acc: 0.9976 - val_loss: 0.0574 - val_acc: 0.9819\n",
      "Baseline Error: 1.81%\n"
     ]
    }
   ],
   "source": [
    "model = Sequential()\n",
    "model.add(Dense(imgsize, input_dim  = imgsize, kernel_initializer = 'normal', activation ='relu'))\n",
    "model.add(Dense(imgsize, kernel_initializer = 'normal', activation = 'tanh'))\n",
    "model.add(Dense(num_classes, kernel_initializer = 'normal', activation ='softmax'))\n",
    "\n",
    "opt = keras.optimizers.SGD(lr=0.01, momentum=0.0, decay=0.0, nesterov=False)\n",
    "\n",
    "model.compile(loss= 'categorical_crossentropy', optimizer=opt, metrics = ['accuracy'])\n",
    "\n",
    "model = build_model()\n",
    "model.fit(X_train, y_train, validation_data = (X_test, y_test), epochs = 10, batch_size = 200, verbose = 2)\n",
    "scores = model.evaluate(X_test, y_test, verbose = 0)\n",
    "print(\"Baseline Error: %.2f%%\" % (100-scores[1]*100))"
   ]
  },
  {
   "cell_type": "markdown",
   "metadata": {},
   "source": [
    "### 2 hidden layers- tanh, tanh\n",
    "#### Number of nodes = image size\n",
    "### Output layer- Softmax\n",
    "#### Number of nodes = 10\n",
    "### Batch size 200, 10 Epochs, Optimiser- Stochastic Gradient Descent \n",
    "### Test Accuracy 0.9828, Train Accuracy 0.9978"
   ]
  },
  {
   "cell_type": "code",
   "execution_count": 96,
   "metadata": {},
   "outputs": [
    {
     "name": "stdout",
     "output_type": "stream",
     "text": [
      "Train on 60000 samples, validate on 10000 samples\n",
      "Epoch 1/10\n",
      "60000/60000 [==============================] - 16s 261us/step - loss: 0.2908 - acc: 0.9238 - val_loss: 0.1165 - val_acc: 0.9654\n",
      "Epoch 2/10\n",
      "60000/60000 [==============================] - 15s 252us/step - loss: 0.0942 - acc: 0.9723 - val_loss: 0.0902 - val_acc: 0.9735\n",
      "Epoch 3/10\n",
      "60000/60000 [==============================] - 15s 250us/step - loss: 0.0653 - acc: 0.9813 - val_loss: 0.0752 - val_acc: 0.9769\n",
      "Epoch 4/10\n",
      "60000/60000 [==============================] - 15s 251us/step - loss: 0.0492 - acc: 0.9867 - val_loss: 0.0664 - val_acc: 0.9789\n",
      "Epoch 5/10\n",
      "60000/60000 [==============================] - 15s 254us/step - loss: 0.0385 - acc: 0.9899 - val_loss: 0.0625 - val_acc: 0.9810\n",
      "Epoch 6/10\n",
      "60000/60000 [==============================] - 17s 291us/step - loss: 0.0311 - acc: 0.9925 - val_loss: 0.0596 - val_acc: 0.9821\n",
      "Epoch 7/10\n",
      "60000/60000 [==============================] - 18s 305us/step - loss: 0.0252 - acc: 0.9943 - val_loss: 0.0572 - val_acc: 0.9826\n",
      "Epoch 8/10\n",
      "60000/60000 [==============================] - 16s 270us/step - loss: 0.0207 - acc: 0.9957 - val_loss: 0.0567 - val_acc: 0.9825\n",
      "Epoch 9/10\n",
      "60000/60000 [==============================] - 17s 286us/step - loss: 0.0172 - acc: 0.9969 - val_loss: 0.0545 - val_acc: 0.9826\n",
      "Epoch 10/10\n",
      "60000/60000 [==============================] - 17s 282us/step - loss: 0.0145 - acc: 0.9978 - val_loss: 0.0541 - val_acc: 0.9828\n",
      "Baseline Error: 1.72%\n"
     ]
    }
   ],
   "source": [
    "model = Sequential()\n",
    "model.add(Dense(imgsize, input_dim  = imgsize, kernel_initializer = 'normal', activation ='relu'))\n",
    "model.add(Dense(imgsize, kernel_initializer = 'normal', activation = 'relu'))\n",
    "model.add(Dense(num_classes, kernel_initializer = 'normal', activation ='softmax'))\n",
    "\n",
    "opt = keras.optimizers.SGD(lr=0.01, momentum=0.0, decay=0.0, nesterov=False)\n",
    "\n",
    "model.compile(loss= 'categorical_crossentropy', optimizer=opt, metrics = ['accuracy'])\n",
    "\n",
    "model = build_model()\n",
    "model.fit(X_train, y_train, validation_data = (X_test, y_test), epochs = 10, batch_size = 200, verbose = 1)\n",
    "scores = model.evaluate(X_test, y_test, verbose = 0)\n",
    "print(\"Baseline Error: %.2f%%\" % (100-scores[1]*100))"
   ]
  },
  {
   "cell_type": "markdown",
   "metadata": {},
   "source": [
    "### 2 hidden layers- Relu, Relu\n",
    "#### Number of nodes = image size\n",
    "### Output layer- Softmax\n",
    "#### Number of nodes = 10\n",
    "### Batch size 700, 10 Epochs, Optimiser- Stochastic Gradient Descent \n",
    "### Test Accuracy 0.9797, Train Accuracy 0.9917"
   ]
  },
  {
   "cell_type": "code",
   "execution_count": 97,
   "metadata": {},
   "outputs": [
    {
     "name": "stdout",
     "output_type": "stream",
     "text": [
      "Train on 60000 samples, validate on 10000 samples\n",
      "Epoch 1/10\n",
      " - 12s - loss: 0.6415 - acc: 0.8496 - val_loss: 0.1879 - val_acc: 0.9424\n",
      "Epoch 2/10\n",
      " - 11s - loss: 0.1475 - acc: 0.9574 - val_loss: 0.1313 - val_acc: 0.9607\n",
      "Epoch 3/10\n",
      " - 11s - loss: 0.1072 - acc: 0.9688 - val_loss: 0.1039 - val_acc: 0.9684\n",
      "Epoch 4/10\n",
      " - 11s - loss: 0.0847 - acc: 0.9757 - val_loss: 0.0928 - val_acc: 0.9716\n",
      "Epoch 5/10\n",
      " - 11s - loss: 0.0702 - acc: 0.9800 - val_loss: 0.0842 - val_acc: 0.9745\n",
      "Epoch 6/10\n",
      " - 11s - loss: 0.0598 - acc: 0.9833 - val_loss: 0.0792 - val_acc: 0.9764\n",
      "Epoch 7/10\n",
      " - 11s - loss: 0.0516 - acc: 0.9865 - val_loss: 0.0743 - val_acc: 0.9776\n",
      "Epoch 8/10\n",
      " - 11s - loss: 0.0451 - acc: 0.9882 - val_loss: 0.0695 - val_acc: 0.9778\n",
      "Epoch 9/10\n",
      " - 12s - loss: 0.0399 - acc: 0.9899 - val_loss: 0.0726 - val_acc: 0.9779\n",
      "Epoch 10/10\n",
      " - 11s - loss: 0.0353 - acc: 0.9917 - val_loss: 0.0662 - val_acc: 0.9797\n",
      "Baseline Error: 2.03%\n"
     ]
    }
   ],
   "source": [
    "model = Sequential()\n",
    "model.add(Dense(imgsize, input_dim  = imgsize, kernel_initializer = 'normal', activation ='relu'))\n",
    "model.add(Dense(imgsize, kernel_initializer = 'normal', activation = 'relu'))\n",
    "model.add(Dense(num_classes, kernel_initializer = 'normal', activation ='softmax'))\n",
    "\n",
    "opt = keras.optimizers.SGD(lr=0.01, momentum=0.0, decay=0.0, nesterov=False)\n",
    "\n",
    "model.compile(loss= 'categorical_crossentropy', optimizer=opt, metrics = ['accuracy'])\n",
    "\n",
    "model = build_model()\n",
    "model.fit(X_train, y_train, validation_data = (X_test, y_test), epochs = 10, batch_size = 700, verbose = 2)\n",
    "scores = model.evaluate(X_test, y_test, verbose = 0)\n",
    "print(\"Baseline Error: %.2f%%\" % (100-scores[1]*100))"
   ]
  },
  {
   "cell_type": "markdown",
   "metadata": {},
   "source": [
    "### 2 hidden layers- Relu, Relu\n",
    "#### Number of nodes = image size\n",
    "### Output layer- Softmax\n",
    "#### Number of nodes = 10\n",
    "### Batch size 10, 20 Epochs, Optimiser- Stochastic Gradient Descent \n",
    "### Test Accuracy 0.984, Train Accuracy 1.0"
   ]
  },
  {
   "cell_type": "code",
   "execution_count": 98,
   "metadata": {},
   "outputs": [
    {
     "name": "stdout",
     "output_type": "stream",
     "text": [
      "Train on 60000 samples, validate on 10000 samples\n",
      "Epoch 1/20\n",
      " - 104s - loss: 0.1618 - acc: 0.9513 - val_loss: 0.0925 - val_acc: 0.9711\n",
      "Epoch 2/20\n",
      " - 110s - loss: 0.0651 - acc: 0.9812 - val_loss: 0.0688 - val_acc: 0.9781\n",
      "Epoch 3/20\n",
      " - 104s - loss: 0.0425 - acc: 0.9879 - val_loss: 0.0674 - val_acc: 0.9788\n",
      "Epoch 4/20\n",
      " - 105s - loss: 0.0296 - acc: 0.9924 - val_loss: 0.0580 - val_acc: 0.9820\n",
      "Epoch 5/20\n",
      " - 111s - loss: 0.0213 - acc: 0.9948 - val_loss: 0.0552 - val_acc: 0.9823\n",
      "Epoch 6/20\n",
      " - 111s - loss: 0.0158 - acc: 0.9966 - val_loss: 0.0543 - val_acc: 0.9831\n",
      "Epoch 7/20\n",
      " - 104s - loss: 0.0121 - acc: 0.9978 - val_loss: 0.0533 - val_acc: 0.9836\n",
      "Epoch 8/20\n",
      " - 104s - loss: 0.0092 - acc: 0.9987 - val_loss: 0.0529 - val_acc: 0.9834\n",
      "Epoch 9/20\n",
      " - 104s - loss: 0.0074 - acc: 0.9991 - val_loss: 0.0536 - val_acc: 0.9838\n",
      "Epoch 10/20\n",
      " - 122s - loss: 0.0059 - acc: 0.9994 - val_loss: 0.0542 - val_acc: 0.9838\n",
      "Epoch 11/20\n",
      " - 126s - loss: 0.0048 - acc: 0.9997 - val_loss: 0.0530 - val_acc: 0.9845\n",
      "Epoch 12/20\n",
      " - 123s - loss: 0.0040 - acc: 0.9997 - val_loss: 0.0537 - val_acc: 0.9837\n",
      "Epoch 13/20\n",
      " - 112s - loss: 0.0034 - acc: 0.9998 - val_loss: 0.0529 - val_acc: 0.9839\n",
      "Epoch 14/20\n",
      " - 118s - loss: 0.0029 - acc: 0.9999 - val_loss: 0.0542 - val_acc: 0.9837\n",
      "Epoch 15/20\n",
      " - 112s - loss: 0.0025 - acc: 0.9999 - val_loss: 0.0536 - val_acc: 0.9846\n",
      "Epoch 16/20\n",
      " - 117s - loss: 0.0022 - acc: 1.0000 - val_loss: 0.0541 - val_acc: 0.9844\n",
      "Epoch 17/20\n",
      " - 109s - loss: 0.0020 - acc: 0.9999 - val_loss: 0.0542 - val_acc: 0.9839\n",
      "Epoch 18/20\n",
      " - 105s - loss: 0.0018 - acc: 1.0000 - val_loss: 0.0546 - val_acc: 0.9841\n",
      "Epoch 19/20\n",
      " - 115s - loss: 0.0016 - acc: 1.0000 - val_loss: 0.0551 - val_acc: 0.9843\n",
      "Epoch 20/20\n",
      " - 112s - loss: 0.0014 - acc: 1.0000 - val_loss: 0.0550 - val_acc: 0.9840\n",
      "Baseline Error: 1.60%\n"
     ]
    }
   ],
   "source": [
    "model = Sequential()\n",
    "model.add(Dense(imgsize, input_dim  = imgsize, kernel_initializer = 'normal', activation ='relu'))\n",
    "model.add(Dense(imgsize, kernel_initializer = 'normal', activation = 'relu'))\n",
    "model.add(Dense(num_classes, kernel_initializer = 'normal', activation ='softmax'))\n",
    "\n",
    "opt = keras.optimizers.SGD(lr=0.01, momentum=0.0, decay=0.0, nesterov=False)\n",
    "\n",
    "model.compile(loss= 'categorical_crossentropy', optimizer=opt, metrics = ['accuracy'])\n",
    "\n",
    "model = build_model()\n",
    "model.fit(X_train, y_train, validation_data = (X_test, y_test), epochs = 20, batch_size = 10, verbose = 2)\n",
    "scores = model.evaluate(X_test, y_test, verbose = 0)\n",
    "print(\"Baseline Error: %.2f%%\" % (100-scores[1]*100))"
   ]
  },
  {
   "cell_type": "markdown",
   "metadata": {},
   "source": [
    "### 2 hidden layers- Relu, Relu\n",
    "#### Number of nodes = image size\n",
    "### Output layer- Softmax\n",
    "#### Number of nodes = 10\n",
    "### Batch size 200, 10 Epochs, Optimiser- Stochastic Gradient Descent \n",
    "### Test Accuracy 0.9824, Train Accuracy 0.9971"
   ]
  },
  {
   "cell_type": "code",
   "execution_count": 99,
   "metadata": {},
   "outputs": [
    {
     "name": "stdout",
     "output_type": "stream",
     "text": [
      "Train on 60000 samples, validate on 10000 samples\n",
      "Epoch 1/10\n",
      " - 15s - loss: 0.3055 - acc: 0.9210 - val_loss: 0.1186 - val_acc: 0.9647\n",
      "Epoch 2/10\n",
      " - 16s - loss: 0.0957 - acc: 0.9718 - val_loss: 0.0932 - val_acc: 0.9721\n",
      "Epoch 3/10\n",
      " - 17s - loss: 0.0671 - acc: 0.9805 - val_loss: 0.0776 - val_acc: 0.9759\n",
      "Epoch 4/10\n",
      " - 15s - loss: 0.0507 - acc: 0.9855 - val_loss: 0.0696 - val_acc: 0.9783\n",
      "Epoch 5/10\n",
      " - 15s - loss: 0.0401 - acc: 0.9891 - val_loss: 0.0638 - val_acc: 0.9800\n",
      "Epoch 6/10\n",
      " - 15s - loss: 0.0324 - acc: 0.9919 - val_loss: 0.0618 - val_acc: 0.9804\n",
      "Epoch 7/10\n",
      " - 15s - loss: 0.0265 - acc: 0.9940 - val_loss: 0.0623 - val_acc: 0.9803\n",
      "Epoch 8/10\n",
      " - 15s - loss: 0.0220 - acc: 0.9951 - val_loss: 0.0597 - val_acc: 0.9808\n",
      "Epoch 9/10\n",
      " - 15s - loss: 0.0186 - acc: 0.9962 - val_loss: 0.0586 - val_acc: 0.9812\n",
      "Epoch 10/10\n",
      " - 15s - loss: 0.0156 - acc: 0.9971 - val_loss: 0.0578 - val_acc: 0.9824\n",
      "Baseline Error: 1.76%\n"
     ]
    }
   ],
   "source": [
    "model = Sequential()\n",
    "model.add(Dense(imgsize, input_dim  = imgsize, kernel_initializer = 'normal', activation ='relu'))\n",
    "model.add(Dense(imgsize, kernel_initializer = 'normal', activation = 'relu'))\n",
    "model.add(Dense(num_classes, kernel_initializer = 'normal', activation ='softmax'))\n",
    "\n",
    "opt = keras.optimizers.SGD(lr=0.01, momentum=0.0, decay=0.0, nesterov=False)\n",
    "\n",
    "model.compile(loss= 'categorical_crossentropy', optimizer=opt, metrics = ['accuracy'])\n",
    "\n",
    "model = build_model()\n",
    "model.fit(X_train, y_train, validation_data = (X_test, y_test), epochs = 10, batch_size = 200, verbose = 2)\n",
    "scores = model.evaluate(X_test, y_test, verbose = 0)\n",
    "print(\"Baseline Error: %.2f%%\" % (100-scores[1]*100))"
   ]
  },
  {
   "cell_type": "markdown",
   "metadata": {},
   "source": [
    "### 2 hidden layers- Relu, Relu\n",
    "#### Number of nodes = image size\n",
    "### Output layer- Softmax\n",
    "#### Number of nodes = 10\n",
    "### Batch size 10, 10 Epochs, Optimiser- Adagrad \n",
    "### Test Accuracy 0.9837, Train Accuracy 1.0"
   ]
  },
  {
   "cell_type": "code",
   "execution_count": 101,
   "metadata": {},
   "outputs": [
    {
     "name": "stdout",
     "output_type": "stream",
     "text": [
      "Train on 60000 samples, validate on 10000 samples\n",
      "Epoch 1/20\n",
      " - 115s - loss: 0.1647 - acc: 0.9504 - val_loss: 0.0880 - val_acc: 0.9726\n",
      "Epoch 2/20\n",
      " - 110s - loss: 0.0664 - acc: 0.9801 - val_loss: 0.0723 - val_acc: 0.9767\n",
      "Epoch 3/20\n",
      " - 111s - loss: 0.0431 - acc: 0.9879 - val_loss: 0.0618 - val_acc: 0.9795\n",
      "Epoch 4/20\n",
      " - 112s - loss: 0.0304 - acc: 0.9918 - val_loss: 0.0589 - val_acc: 0.9819\n",
      "Epoch 5/20\n",
      " - 122s - loss: 0.0221 - acc: 0.9947 - val_loss: 0.0563 - val_acc: 0.9825\n",
      "Epoch 6/20\n",
      " - 111s - loss: 0.0162 - acc: 0.9966 - val_loss: 0.0572 - val_acc: 0.9825\n",
      "Epoch 7/20\n",
      " - 116s - loss: 0.0124 - acc: 0.9979 - val_loss: 0.0559 - val_acc: 0.9826\n",
      "Epoch 8/20\n",
      " - 124s - loss: 0.0095 - acc: 0.9987 - val_loss: 0.0567 - val_acc: 0.9814\n",
      "Epoch 9/20\n",
      " - 113s - loss: 0.0074 - acc: 0.9992 - val_loss: 0.0547 - val_acc: 0.9832\n",
      "Epoch 10/20\n",
      " - 111s - loss: 0.0060 - acc: 0.9994 - val_loss: 0.0546 - val_acc: 0.9836\n",
      "Epoch 11/20\n",
      " - 119s - loss: 0.0049 - acc: 0.9996 - val_loss: 0.0555 - val_acc: 0.9830\n",
      "Epoch 12/20\n",
      " - 133s - loss: 0.0040 - acc: 0.9997 - val_loss: 0.0563 - val_acc: 0.9828\n",
      "Epoch 13/20\n",
      " - 122s - loss: 0.0034 - acc: 0.9999 - val_loss: 0.0554 - val_acc: 0.9831\n",
      "Epoch 14/20\n",
      " - 113s - loss: 0.0029 - acc: 0.9999 - val_loss: 0.0559 - val_acc: 0.9834\n",
      "Epoch 15/20\n",
      " - 115s - loss: 0.0025 - acc: 1.0000 - val_loss: 0.0566 - val_acc: 0.9830\n",
      "Epoch 16/20\n",
      " - 119s - loss: 0.0022 - acc: 1.0000 - val_loss: 0.0563 - val_acc: 0.9837\n",
      "Epoch 17/20\n",
      " - 120s - loss: 0.0020 - acc: 1.0000 - val_loss: 0.0556 - val_acc: 0.9835\n",
      "Epoch 18/20\n",
      " - 117s - loss: 0.0018 - acc: 1.0000 - val_loss: 0.0558 - val_acc: 0.9841\n",
      "Epoch 19/20\n",
      " - 113s - loss: 0.0016 - acc: 1.0000 - val_loss: 0.0563 - val_acc: 0.9842\n",
      "Epoch 20/20\n",
      " - 116s - loss: 0.0015 - acc: 1.0000 - val_loss: 0.0570 - val_acc: 0.9837\n",
      "Baseline Error: 1.63%\n"
     ]
    }
   ],
   "source": [
    "model = Sequential()\n",
    "model.add(Dense(imgsize, input_dim  = imgsize, kernel_initializer = 'normal', activation ='relu'))\n",
    "model.add(Dense(imgsize, kernel_initializer = 'normal', activation = 'relu'))\n",
    "model.add(Dense(num_classes, kernel_initializer = 'normal', activation ='softmax'))\n",
    "\n",
    "model.compile(loss= 'categorical_crossentropy', optimizer='Adagrad', metrics = ['accuracy'])\n",
    "\n",
    "model = build_model()\n",
    "model.fit(X_train, y_train, validation_data = (X_test, y_test), epochs = 20, batch_size = 10, verbose = 2)\n",
    "scores = model.evaluate(X_test, y_test, verbose = 0)\n",
    "print(\"Baseline Error: %.2f%%\" % (100-scores[1]*100))"
   ]
  },
  {
   "cell_type": "markdown",
   "metadata": {},
   "source": [
    "### 2 hidden layers- Relu, Relu\n",
    "#### Number of nodes = image size\n",
    "### Output layer- Softmax\n",
    "#### Number of nodes = 10\n",
    "### Batch size 10, 15 Epochs, Optimiser- Stochastic Gradient Descent \n",
    "### Test Accuracy 0.9846, Train Accuracy 0.9999"
   ]
  },
  {
   "cell_type": "code",
   "execution_count": 111,
   "metadata": {},
   "outputs": [
    {
     "name": "stdout",
     "output_type": "stream",
     "text": [
      "Train on 60000 samples, validate on 10000 samples\n",
      "Epoch 1/15\n",
      " - 120s - loss: 0.1662 - acc: 0.9499 - val_loss: 0.0947 - val_acc: 0.9704\n",
      "Epoch 2/15\n",
      " - 103s - loss: 0.0669 - acc: 0.9801 - val_loss: 0.0720 - val_acc: 0.9781\n",
      "Epoch 3/15\n",
      " - 103s - loss: 0.0437 - acc: 0.9879 - val_loss: 0.0609 - val_acc: 0.9815\n",
      "Epoch 4/15\n",
      " - 102s - loss: 0.0311 - acc: 0.9920 - val_loss: 0.0617 - val_acc: 0.9796\n",
      "Epoch 5/15\n",
      " - 103s - loss: 0.0226 - acc: 0.9949 - val_loss: 0.0549 - val_acc: 0.9823\n",
      "Epoch 6/15\n",
      " - 101s - loss: 0.0168 - acc: 0.9964 - val_loss: 0.0526 - val_acc: 0.9842\n",
      "Epoch 7/15\n",
      " - 102s - loss: 0.0129 - acc: 0.9976 - val_loss: 0.0519 - val_acc: 0.9836\n",
      "Epoch 8/15\n",
      " - 102s - loss: 0.0099 - acc: 0.9986 - val_loss: 0.0529 - val_acc: 0.9841\n",
      "Epoch 9/15\n",
      " - 102s - loss: 0.0078 - acc: 0.9991 - val_loss: 0.0516 - val_acc: 0.9839\n",
      "Epoch 10/15\n",
      " - 101s - loss: 0.0062 - acc: 0.9993 - val_loss: 0.0527 - val_acc: 0.9834\n",
      "Epoch 11/15\n",
      " - 101s - loss: 0.0051 - acc: 0.9996 - val_loss: 0.0510 - val_acc: 0.9846\n",
      "Epoch 12/15\n",
      " - 102s - loss: 0.0042 - acc: 0.9998 - val_loss: 0.0521 - val_acc: 0.9838\n",
      "Epoch 13/15\n",
      " - 102s - loss: 0.0035 - acc: 0.9999 - val_loss: 0.0531 - val_acc: 0.9838\n",
      "Epoch 14/15\n",
      " - 105s - loss: 0.0030 - acc: 0.9999 - val_loss: 0.0528 - val_acc: 0.9838\n",
      "Epoch 15/15\n",
      " - 114s - loss: 0.0026 - acc: 0.9999 - val_loss: 0.0531 - val_acc: 0.9846\n",
      "Baseline Error: 1.54%\n"
     ]
    }
   ],
   "source": [
    "model = Sequential()\n",
    "model.add(Dense(imgsize, input_dim  = imgsize, kernel_initializer = 'normal', activation ='relu'))\n",
    "model.add(Dense(imgsize, kernel_initializer = 'normal', activation = 'relu'))\n",
    "model.add(Dense(num_classes, kernel_initializer = 'normal', activation ='softmax'))\n",
    "\n",
    "opt = keras.optimizers.SGD(lr=0.01, momentum=0.0, decay=0.0, nesterov=False)\n",
    "\n",
    "model.compile(loss= 'categorical_crossentropy', optimizer=opt, metrics = ['accuracy'])\n",
    "\n",
    "model = build_model()\n",
    "history = model.fit(X_train, y_train, validation_data = (X_test, y_test), epochs = 15, batch_size = 10, verbose = 2)\n",
    "scores = model.evaluate(X_test, y_test, verbose = 0)\n",
    "print(\"Baseline Error: %.2f%%\" % (100-scores[1]*100))"
   ]
  },
  {
   "cell_type": "code",
   "execution_count": 112,
   "metadata": {},
   "outputs": [
    {
     "name": "stdout",
     "output_type": "stream",
     "text": [
      "dict_keys(['val_loss', 'val_acc', 'loss', 'acc'])\n"
     ]
    }
   ],
   "source": [
    "print(history.history.keys())"
   ]
  },
  {
   "cell_type": "code",
   "execution_count": 118,
   "metadata": {},
   "outputs": [
    {
     "data": {
      "image/png": "[encoded data removed]",
      "text/plain": [
       "<matplotlib.figure.Figure at 0x123b0d0f0>"
      ]
     },
     "metadata": {},
     "output_type": "display_data"
    }
   ],
   "source": [
    "plt.plot(history.history['acc'])\n",
    "plt.plot(history.history['val_acc'])\n",
    "plt.title('model accuracy')\n",
    "plt.xlabel('accuracy')\n",
    "plt.ylabel('epoch')\n",
    "plt.legend(['train', 'test'], loc = 'upper left')\n",
    "plt.show()"
   ]
  },
  {
   "cell_type": "code",
   "execution_count": 117,
   "metadata": {},
   "outputs": [
    {
     "data": {
      "image/png": "[encoded data removed]",
      "text/plain": [
       "<matplotlib.figure.Figure at 0x123a86d30>"
      ]
     },
     "metadata": {},
     "output_type": "display_data"
    }
   ],
   "source": [
    "plt.plot(history.history['loss'])\n",
    "plt.plot(history.history['val_loss'])\n",
    "plt.title('model loss')\n",
    "plt.xlabel('loss')\n",
    "plt.ylabel('epoch')\n",
    "plt.legend(['train', 'test'], loc = 'upper left')\n",
    "plt.show()"
   ]
  }
 ],
 "metadata": {
  "kernelspec": {
   "display_name": "Python 3",
   "language": "python",
   "name": "python3"
  },
  "language_info": {
   "codemirror_mode": {
    "name": "ipython",
    "version": 3
   },
   "file_extension": ".py",
   "mimetype": "text/x-python",
   "name": "python",
   "nbconvert_exporter": "python",
   "pygments_lexer": "ipython3",
   "version": "3.6.4"
  }
 },
 "nbformat": 4,
 "nbformat_minor": 2
}
